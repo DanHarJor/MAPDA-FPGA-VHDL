{
 "cells": [
  {
   "cell_type": "code",
   "execution_count": 1,
   "id": "7d9b2f27",
   "metadata": {
    "scrolled": true
   },
   "outputs": [
    {
     "name": "stdout",
     "output_type": "stream",
     "text": [
      "99\n",
      "[46, 17, 96, 70, 23, 86, 91, 80, 94, 38, 54, 13, 49, 75, 60, 39, 19, 7, 57, 49, 98, 64, 16, 84, 78, 60, 20, 95, 11, 18, 58, 14, 42]\n",
      "[ 2  2  2  5  6  7  7  7  9 11 11 11 12 13 13 13 13 14 16 17 17 17 17 18\n",
      " 19 19 20 23 25 25 27 27 29 30 32 35 36 38 38 39 39 41 42 43 43 44 46 47\n",
      " 49 49 49 51 54 54 57 58 58 58 59 60 60 60 64 64 64 66 67 67 68 70 71 71\n",
      " 72 73 74 75 75 75 76 76 77 78 80 80 84 85 86 87 88 88 89 91 92 94 95 96\n",
      " 97 98 98 98]\n"
     ]
    }
   ],
   "source": [
    "import serial\n",
    "import numpy as np\n",
    "\n",
    "rd_array  = np.random.randint(low = 0, high = 99, size = 100)\n",
    "ser = serial.Serial('COM10',baudrate = 115200, bytesize=8, timeout = 10)\n",
    "key = 105 # will make this longer but simple for now \n",
    "ser.write(chr(key).encode())\n",
    "for i in range(100): # just test pass through\n",
    "    ser.write(chr(rd_array[i]).encode())\n",
    "    #d = ser.read()\n",
    "    #print('pt',i, ord(d))\n",
    "    if i==99:\n",
    "        print(i)\n",
    "        d = ser.read(99)\n",
    "\n",
    "data_stream =[]\n",
    "for a in d:\n",
    "       data_stream.append(a)\n",
    "\n",
    "ser.close()\n",
    "print(data_stream)\n",
    "print(np.sort(rd_array))"
   ]
  },
  {
   "cell_type": "code",
   "execution_count": null,
   "id": "8a195269",
   "metadata": {},
   "outputs": [],
   "source": []
  },
  {
   "cell_type": "code",
   "execution_count": null,
   "id": "47b9033c",
   "metadata": {},
   "outputs": [],
   "source": []
  },
  {
   "cell_type": "code",
   "execution_count": null,
   "id": "e494c7a7",
   "metadata": {},
   "outputs": [],
   "source": []
  },
  {
   "cell_type": "code",
   "execution_count": null,
   "id": "ea20362c",
   "metadata": {},
   "outputs": [],
   "source": []
  }
 ],
 "metadata": {
  "kernelspec": {
   "display_name": "Python 3",
   "language": "python",
   "name": "python3"
  },
  "language_info": {
   "codemirror_mode": {
    "name": "ipython",
    "version": 3
   },
   "file_extension": ".py",
   "mimetype": "text/x-python",
   "name": "python",
   "nbconvert_exporter": "python",
   "pygments_lexer": "ipython3",
   "version": "3.8.8"
  }
 },
 "nbformat": 4,
 "nbformat_minor": 5
}
