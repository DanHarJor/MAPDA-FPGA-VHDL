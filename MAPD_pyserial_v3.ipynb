{
 "cells": [
  {
   "cell_type": "code",
   "execution_count": 1,
   "id": "7d9b2f27",
   "metadata": {
    "scrolled": true
   },
   "outputs": [
    {
     "name": "stdout",
     "output_type": "stream",
     "text": [
      "pt 0 0\n",
      "pt 1 1\n",
      "pt 2 2\n",
      "pt 3 3\n",
      "pt 4 4\n",
      "pt 5 5\n",
      "pt 6 6\n",
      "pt 7 7\n",
      "pt 8 8\n",
      "pt 9 9\n",
      "99\n",
      "Input random array\n",
      "[73 16 56 38 11 11 46 57 84 85 54 37 68 61 48 49 56 87 60 88 53 72 16 30\n",
      " 45 86 32 62 67 45 32 25 71 93 33 63 44 19 15 76 40 49 28 55 67 29 65 67\n",
      " 91 16 48 97 43 48 90 43 76 98 30 47 48 80 58 88 93 34 66 93 86 89 97 90\n",
      " 14 92  9 73 39 44 10 37 75 38 80 97 67 52 57 27 18 64 42  6 15 41 64 96\n",
      " 74 20 57 37]\n",
      "read from board\n",
      "[0, 0, 0, 6, 9, 10, 11, 11, 14, 15, 15, 16, 16, 16, 18, 19, 20, 25, 27, 28, 29, 30, 30, 32, 32, 33, 34, 37, 37, 38, 38, 39, 40, 41, 42, 43, 43, 44, 44, 45, 45, 46, 47, 48, 48, 48, 48, 49, 49, 52, 53, 54, 55, 56, 56, 57, 57, 58, 60, 61, 62, 63, 64, 64, 65, 66, 67, 67, 67, 67, 68, 71, 72, 73, 73, 74, 75, 76, 76, 80, 80, 84, 85, 86, 86, 87, 88, 88, 89, 90, 90, 91, 92, 93, 93, 93, 96, 97, 97]\n",
      "input sorted for comparison\n",
      "[ 6  9 10 11 11 14 15 15 16 16 16 18 19 20 25 27 28 29 30 30 32 32 33 34\n",
      " 37 37 37 38 38 39 40 41 42 43 43 44 44 45 45 46 47 48 48 48 48 49 49 52\n",
      " 53 54 55 56 56 57 57 57 58 60 61 62 63 64 64 65 66 67 67 67 67 68 71 72\n",
      " 73 73 74 75 76 76 80 80 84 85 86 86 87 88 88 89 90 90 91 92 93 93 93 96\n",
      " 97 97 97 98]\n"
     ]
    }
   ],
   "source": [
    "import serial\n",
    "import numpy as np\n",
    "import time\n",
    "\n",
    "rd_array  = np.random.randint(low = 0, high = 99, size = 100)\n",
    "ser = serial.Serial('COM10',baudrate = 115200, bytesize=8, timeout = 10)\n",
    "key = 105 # will make this longer but simple for now \n",
    "\n",
    "def pass_through_test():\n",
    "    for i in range(10):\n",
    "        ser.write(chr(i).encode())\n",
    "        d = ser.read()\n",
    "        print('pt',i, ord(d))\n",
    "\n",
    "pass_through_test()\n",
    "\n",
    "ser.write(chr(key).encode())\n",
    "\n",
    "\n",
    "\n",
    "\n",
    "\n",
    "for i in range(100): # just test pass through\n",
    "    #time.sleep(0.5)\n",
    "    ser.write(chr(rd_array[i]).encode())\n",
    "    #d = ser.read()\n",
    "    #print('pt',i, ord(d))\n",
    "    if i==99:\n",
    "        print(i)\n",
    "        d = ser.read(99)\n",
    "\n",
    "data_stream =[]\n",
    "for a in d:\n",
    "       data_stream.append(a)\n",
    "\n",
    "ser.close()\n",
    "print('Input random array')\n",
    "print(rd_array)\n",
    "print('read from board')\n",
    "print(data_stream)\n",
    "\n",
    "print('input sorted for comparison')\n",
    "print(np.sort(rd_array))"
   ]
  },
  {
   "cell_type": "code",
   "execution_count": null,
   "id": "8a195269",
   "metadata": {},
   "outputs": [],
   "source": []
  },
  {
   "cell_type": "code",
   "execution_count": null,
   "id": "47b9033c",
   "metadata": {},
   "outputs": [],
   "source": []
  },
  {
   "cell_type": "code",
   "execution_count": null,
   "id": "e494c7a7",
   "metadata": {},
   "outputs": [],
   "source": []
  },
  {
   "cell_type": "code",
   "execution_count": null,
   "id": "ea20362c",
   "metadata": {},
   "outputs": [],
   "source": []
  }
 ],
 "metadata": {
  "kernelspec": {
   "display_name": "Python 3",
   "language": "python",
   "name": "python3"
  },
  "language_info": {
   "codemirror_mode": {
    "name": "ipython",
    "version": 3
   },
   "file_extension": ".py",
   "mimetype": "text/x-python",
   "name": "python",
   "nbconvert_exporter": "python",
   "pygments_lexer": "ipython3",
   "version": "3.8.8"
  }
 },
 "nbformat": 4,
 "nbformat_minor": 5
}
